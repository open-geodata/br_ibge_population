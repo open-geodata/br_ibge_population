{
 "cells": [
  {
   "cell_type": "markdown",
   "metadata": {},
   "source": [
    "<br>\n",
    "\n",
    "# Introdução\n",
    "\n",
    "Inicialmente faz-se necessário importar os pacotes utilizados, bem como definir as funções que serão usadas posterirmente.\n",
    "\n",
    "*Script* criado para organizar uma tabela com a estimativa da população de cada município do Brasil. Os dados foram obtidos com auxílio da [plataforma SIDRA](https://sidra.ibge.gov.br/pesquisa/EstimaPop/tabelas), obtendo os dados da [tabela 6579](https://sidra.ibge.gov.br/tabela/6579) e ajustando-os, elimintando cabeçalhos e rodapés etc."
   ]
  },
  {
   "cell_type": "code",
   "execution_count": 4,
   "metadata": {},
   "outputs": [],
   "source": [
    "import os\n",
    "import requests\n",
    "import traquitanas.utils as tt\n",
    "import pandas as pd"
   ]
  },
  {
   "cell_type": "code",
   "execution_count": null,
   "metadata": {},
   "outputs": [],
   "source": [
    "input_path = os.path.join('..', 'data')\n",
    "os.makedirs(input_path, exist_ok=True)"
   ]
  },
  {
   "cell_type": "markdown",
   "metadata": {},
   "source": [
    "<br>\n",
    "\n",
    "## *Download* dos dados\n",
    "\n",
    "Deve-se definir a *url* que se localizam os dados, bem como o nome do arquivo a ser baixado. A *url* foi definida por meio do [modo de consulta do SIDRA](https://sidra.ibge.gov.br/tabela/6579), onde se definiu o *layout* da tabela e posterirmente acessando a função *Links de Compartilhar*.\n",
    "\n",
    "O *layout* foi definido selecionando-se todos os anos disponíveis e os níveis territoriais foi selecionado apenas o nivel mais desagregado, que possibilita agregar os dados conforme o usuário quiser, ou seja, municípios.\n",
    "\n",
    "Inicialmente está se trabalhando com o *download* de arquivos **_.csv_**, porém pretende-se futuramente tentar acessar os dados pela API do SIDRA (https://apisidra.ibge.gov.br/values/t/6579/n6/all/v/all/p/all)\n",
    "\n",
    "![optionSIDRA](https://i.imgur.com/eCVDpEm.png) <!-- .element height=\"20%\" width=\"20%\" style=\"border: 0; background: None; box-shadow: None\" -->"
   ]
  },
  {
   "cell_type": "code",
   "execution_count": null,
   "metadata": {},
   "outputs": [],
   "source": [
    "url = 'https://sidra.ibge.gov.br/geratabela'\n",
    "\n",
    "parameters = {\n",
    "    'format': 'br.csv',\n",
    "    'name': 'tabela6579.csv',\n",
    "    'terr': 'NC',\n",
    "    'rank': '-',\n",
    "    'query': 't/6579/n6/all/v/all/p/all/l/v,p,t',\n",
    "}\n",
    "\n",
    "r = requests.get(url, params=parameters)\n",
    "print(r.url)"
   ]
  },
  {
   "cell_type": "code",
   "execution_count": null,
   "metadata": {},
   "outputs": [],
   "source": [
    "filename = os.path.join(input_path, 'tab_estimativapopulação.csv')\n",
    "\n",
    "with open(filename, 'wb') as f:\n",
    "    f.write(r.content)"
   ]
  },
  {
   "cell_type": "markdown",
   "metadata": {},
   "source": [
    "<br>\n",
    "\n",
    "## Lê e Ajusta a Tabela\n",
    "\n",
    "Para edições e limpeza da tabela, os dados são lidos, aonde já se define parâmetros para pular linhas iniciais, ignorar as notas de rodapé etc."
   ]
  },
  {
   "cell_type": "code",
   "execution_count": null,
   "metadata": {},
   "outputs": [],
   "source": [
    "file_encoding = tt.predict_encoding(filename)\n",
    "print(file_encoding)\n",
    "\n",
    "df = pd.read_csv(\n",
    "    filename,\n",
    "    delimiter=';',\n",
    "    header=1,\n",
    "    skiprows=range(1, 3),\n",
    "    nrows=5570,\n",
    "    #encoding=file_encoding\n",
    ")"
   ]
  },
  {
   "cell_type": "code",
   "execution_count": null,
   "metadata": {},
   "outputs": [],
   "source": [
    "# Ajusta o Índice\n",
    "df.rename(\n",
    "    {\n",
    "        'Cód.': 'ID_Município',\n",
    "        'Município': 'Município_Orig'},\n",
    "    axis=1,\n",
    "    inplace=True\n",
    ")\n",
    "\n",
    "# Set Index\n",
    "df = df.set_index('ID_Município')\n",
    "\n",
    "# Cria/desmembra colunas\n",
    "df['Município'] = df['Município_Orig'].str.split(' \\(').str[0]\n",
    "df['Estado'] = df['Município_Orig'].str.split(' \\(').str[1]\n",
    "df['Estado'] = df['Estado'].replace('\\)', '', regex=True)\n",
    "\n",
    "# Exclui coluna\n",
    "df.drop(['Município_Orig'], axis=1, inplace=True)\n",
    "\n",
    "# Ajusta a ordem das colunas\n",
    "col = df.columns.to_list()\n",
    "col.insert(0, col.pop(col.index('Município')))\n",
    "col.insert(1, col.pop(col.index('Estado')))\n",
    "df = df.reindex(columns=col)\n",
    "\n",
    "# Results\n",
    "df.head()"
   ]
  },
  {
   "cell_type": "code",
   "execution_count": null,
   "metadata": {},
   "outputs": [],
   "source": [
    "# Lista de Colunas a serem alteradas\n",
    "list_columns = df.columns[2:]\n",
    "list_columns"
   ]
  },
  {
   "cell_type": "code",
   "execution_count": null,
   "metadata": {},
   "outputs": [],
   "source": [
    "# Função que Altera\n",
    "for i in list_columns:\n",
    "    year = str(i)\n",
    "    df[year] = pd.to_numeric(df[year], errors='coerce', downcast='float')"
   ]
  },
  {
   "cell_type": "code",
   "execution_count": null,
   "metadata": {},
   "outputs": [],
   "source": [
    "# Resultados\n",
    "print(df.dtypes)\n",
    "df.head()"
   ]
  },
  {
   "cell_type": "markdown",
   "metadata": {},
   "source": [
    "<br>\n",
    "\n",
    "## Escreve a Tabela"
   ]
  },
  {
   "cell_type": "code",
   "execution_count": null,
   "metadata": {},
   "outputs": [],
   "source": [
    "df.to_csv(\n",
    "    os.path.join(input_path, 'tab_EstimativaPopulação_Ajusted.csv'),\n",
    "    encoding='utf-8-sig',\n",
    "    index=True,\n",
    "    header=True,\n",
    "    #sep=';',\n",
    "    #decimal=','\n",
    ")    "
   ]
  }
 ],
 "metadata": {
  "kernelspec": {
   "display_name": "pablocarreira-lastest",
   "language": "python",
   "name": "python3"
  },
  "language_info": {
   "codemirror_mode": {
    "name": "ipython",
    "version": 3
   },
   "file_extension": ".py",
   "mimetype": "text/x-python",
   "name": "python",
   "nbconvert_exporter": "python",
   "pygments_lexer": "ipython3",
   "version": "3.10.8 | packaged by conda-forge | (main, Nov 22 2022, 08:16:33) [MSC v.1929 64 bit (AMD64)]"
  },
  "toc": {
   "base_numbering": 1,
   "nav_menu": {},
   "number_sections": true,
   "sideBar": true,
   "skip_h1_title": false,
   "title_cell": "Sumário",
   "title_sidebar": "Contents",
   "toc_cell": true,
   "toc_position": {},
   "toc_section_display": true,
   "toc_window_display": true
  },
  "toc-autonumbering": true,
  "vscode": {
   "interpreter": {
    "hash": "687569cb6e4397037c9d383e6d97c177d3952104239309167bc1c3493c92ca14"
   }
  }
 },
 "nbformat": 4,
 "nbformat_minor": 4
}
