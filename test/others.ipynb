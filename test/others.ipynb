{
 "cells": [
  {
   "cell_type": "code",
   "execution_count": null,
   "id": "0c4a8fcc-2295-41ab-b900-3e50019a5643",
   "metadata": {},
   "outputs": [],
   "source": []
  },
  {
   "cell_type": "markdown",
   "id": "2d95d733-50fa-45d4-a33c-8ff083a08206",
   "metadata": {},
   "source": [
    "<br>\n",
    "\n",
    "# SIDRA"
   ]
  },
  {
   "cell_type": "code",
   "execution_count": null,
   "id": "db9c8f32-f343-4269-805d-5fe7a5afbb57",
   "metadata": {},
   "outputs": [],
   "source": [
    "#!pip install -U sidrapy"
   ]
  },
  {
   "cell_type": "code",
   "execution_count": null,
   "id": "a3fb5fb0-8b3e-4611-877c-599d39fdf5c4",
   "metadata": {},
   "outputs": [],
   "source": [
    "table = 6579\n",
    "periodo = None\n",
    "cod_ibge = 3304557\n",
    "variaveis = 'allxp'\n",
    "p = 'all' # Periodo\n",
    "casas_decimais = 's'\n",
    "header = 'y'"
   ]
  },
  {
   "cell_type": "code",
   "execution_count": null,
   "id": "522bff0a-8450-468c-aecb-d38f7f08befb",
   "metadata": {},
   "outputs": [],
   "source": [
    "'dd' if periodo is None else ''"
   ]
  },
  {
   "cell_type": "code",
   "execution_count": null,
   "id": "18b7e02c-f00a-42cc-9602-ad6a4abb471f",
   "metadata": {},
   "outputs": [],
   "source": [
    "url = 'https://apisidra.ibge.gov.br/values/{}/{}/{}/{}/{}/{}'.format(\n",
    "    't/{}'.format(table), # Tabela\n",
    "    'n6/{}'.format(cod_ibge), # Código IBGE\n",
    "    'v/{}'.format(variaveis), # Variáveis\n",
    "    'p/{}'.format(p), # Período\n",
    "    'd/{}'.format(casas_decimais), # Casas Decimais\n",
    "    'h/{}'.format(header) # Header\n",
    ")\n",
    "url"
   ]
  },
  {
   "cell_type": "code",
   "execution_count": null,
   "id": "7878e296-dcba-4ede-a637-bf2a6f61822d",
   "metadata": {},
   "outputs": [],
   "source": [
    "r = requests.get(url)\n",
    "df = pd.DataFrame(r.json())\n",
    "\n",
    "df.columns = df.iloc[0]\n",
    "df.drop(df.index[0], inplace=True)\n",
    "df.reset_index(inplace=True, drop=True)\n",
    "df"
   ]
  },
  {
   "cell_type": "code",
   "execution_count": null,
   "id": "6a5a1a4c-536f-422b-bc48-c7598b38ea29",
   "metadata": {},
   "outputs": [],
   "source": [
    "id_ibge = 3548500\n",
    "url = 'https://apisidra.ibge.gov.br/values/t/6579/n6/{}/v/all/p/last'.format(id_ibge)\n",
    "\n",
    "r = requests.get(url)\n",
    "df = pd.DataFrame(r.json())\n",
    "\n",
    "df.columns = df.iloc[0]\n",
    "df.drop(df.index[0], inplace=True)\n",
    "df.reset_index(inplace=True, drop=True)\n",
    "\n",
    "# Results\n",
    "display(df.head())\n",
    "int(df['Valor'])"
   ]
  }
 ],
 "metadata": {
  "kernelspec": {
   "display_name": "Python [conda env:pablocarreira-py39] *",
   "language": "python",
   "name": "conda-env-pablocarreira-py39-py"
  },
  "language_info": {
   "codemirror_mode": {
    "name": "ipython",
    "version": 3
   },
   "file_extension": ".py",
   "mimetype": "text/x-python",
   "name": "python",
   "nbconvert_exporter": "python",
   "pygments_lexer": "ipython3",
   "version": "3.9.10"
  }
 },
 "nbformat": 4,
 "nbformat_minor": 5
}
