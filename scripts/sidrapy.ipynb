{
 "cells": [
  {
   "attachments": {},
   "cell_type": "markdown",
   "id": "d8ea38f0-0a68-4d1b-b1f0-268aaba482b5",
   "metadata": {
    "tags": [
     "remove_cell"
    ]
   },
   "source": [
    "<br>\n",
    "\n",
    "# SidraPy\n",
    "\n",
    "- https://github.com/AlanTaranti/sidrapy\n",
    "- https://sidrapy.readthedocs.io/en/latest\n"
   ]
  },
  {
   "cell_type": "code",
   "execution_count": null,
   "id": "8d89ab53-4c70-44ee-9c79-ceb82939ad48",
   "metadata": {},
   "outputs": [],
   "source": [
    "#!pip install sidrapy --upgrade\n"
   ]
  },
  {
   "cell_type": "code",
   "execution_count": 1,
   "id": "a51ff02a-cf5e-46b4-a5c3-5ed78dc36a38",
   "metadata": {},
   "outputs": [
    {
     "name": "stderr",
     "output_type": "stream",
     "text": [
      "c:\\Users\\michel\\Documents\\Conda\\envs\\pablocarreira-lastest\\lib\\site-packages\\pandas\\core\\arrays\\masked.py:60: UserWarning: Pandas requires version '1.3.6' or newer of 'bottleneck' (version '1.3.5' currently installed).\n",
      "  from pandas.core import (\n"
     ]
    }
   ],
   "source": [
    "import pandas as pd\n",
    "import sidrapy"
   ]
  },
  {
   "attachments": {},
   "cell_type": "markdown",
   "id": "2d0c8908-41c9-4d3e-8681-15e30294cf4d",
   "metadata": {
    "tags": [
     "remove_cell"
    ]
   },
   "source": [
    "<br>\n",
    "\n",
    "## Exemplo\n"
   ]
  },
  {
   "cell_type": "code",
   "execution_count": null,
   "id": "f7db3412-e07f-4835-975a-1970d03da718",
   "metadata": {
    "tags": [
     "remove_cell"
    ]
   },
   "outputs": [],
   "source": [
    "# sidrapy.get_table(table_code=\"1419\", territorial_level=\"1\", ibge_territorial_code=\"all\", period=\"last 12\")\n"
   ]
  },
  {
   "attachments": {},
   "cell_type": "markdown",
   "id": "8cf42157-2a4e-4338-9ccc-74001ca65749",
   "metadata": {
    "tags": [
     "remove_cell"
    ]
   },
   "source": [
    "<br>\n",
    "\n",
    "## Estimativa População\n"
   ]
  },
  {
   "cell_type": "code",
   "execution_count": null,
   "id": "78e4473c-03bb-450c-bf68-0986bdcbee2f",
   "metadata": {},
   "outputs": [],
   "source": [
    "def get_estimated_population(cod_ibge):\n",
    "    # Get Table\n",
    "    df = sidrapy.get_table(\n",
    "        table_code='6579',\n",
    "        territorial_level='6',\n",
    "        ibge_territorial_code=cod_ibge,\n",
    "        period='all',\n",
    "        header='n',\n",
    "    )\n",
    "\n",
    "    # Dict\n",
    "    dict_col = {\n",
    "        'D1C': 'id_municipio',\n",
    "        'D1N': 'municipio_nome',\n",
    "        'V': 'n_habitantes',\n",
    "        'D2N': 'ano',\n",
    "    }\n",
    "\n",
    "    # Remane Columns\n",
    "    df.rename(dict_col, axis=1, inplace=True)\n",
    "\n",
    "    # Select Columns\n",
    "    df = df[[v for k, v in dict_col.items()]]\n",
    "\n",
    "    # Adjust Columns\n",
    "    df.sort_values(by=['ano'], inplace=True)\n",
    "    df['id_municipio'] = pd.to_numeric(df['id_municipio'], errors='coerce')\n",
    "    df['n_habitantes'] = pd.to_numeric(df['n_habitantes'], errors='coerce')\n",
    "    df['ano'] = pd.to_numeric(df['ano'], errors='coerce')\n",
    "\n",
    "    # Results\n",
    "    return df\n"
   ]
  },
  {
   "cell_type": "code",
   "execution_count": null,
   "id": "5b4459d0-fd78-4de6-b3b3-e604cc9b2435",
   "metadata": {
    "tags": [
     "remove_cell"
    ]
   },
   "outputs": [],
   "source": [
    "cod_ibge = '3526902'  # Limeira\n",
    "\n",
    "df = get_estimated_population(cod_ibge)\n",
    "print(df.dtypes)\n",
    "df.head()\n"
   ]
  }
 ],
 "metadata": {
  "kernelspec": {
   "display_name": "pablocarreira-lastest",
   "language": "python",
   "name": "python3"
  },
  "language_info": {
   "codemirror_mode": {
    "name": "ipython",
    "version": 3
   },
   "file_extension": ".py",
   "mimetype": "text/x-python",
   "name": "python",
   "nbconvert_exporter": "python",
   "pygments_lexer": "ipython3",
   "version": "3.10.13"
  },
  "vscode": {
   "interpreter": {
    "hash": "687569cb6e4397037c9d383e6d97c177d3952104239309167bc1c3493c92ca14"
   }
  }
 },
 "nbformat": 4,
 "nbformat_minor": 5
}
