{
 "cells": [
  {
   "cell_type": "markdown",
   "id": "d8ea38f0-0a68-4d1b-b1f0-268aaba482b5",
   "metadata": {
    "tags": [
     "remove_cell"
    ]
   },
   "source": [
    "<br>\n",
    "\n",
    "# SidraPy\n",
    "\n",
    "- https://github.com/AlanTaranti/sidrapy\n",
    "- https://sidrapy.readthedocs.io/en/latest"
   ]
  },
  {
   "cell_type": "code",
   "execution_count": null,
   "id": "8d89ab53-4c70-44ee-9c79-ceb82939ad48",
   "metadata": {},
   "outputs": [],
   "source": [
    "#!pip install sidrapy --upgrade"
   ]
  },
  {
   "cell_type": "code",
   "execution_count": null,
   "id": "a51ff02a-cf5e-46b4-a5c3-5ed78dc36a38",
   "metadata": {},
   "outputs": [],
   "source": [
    "import sidrapy\n",
    "import pandas as pd"
   ]
  },
  {
   "cell_type": "markdown",
   "id": "2d0c8908-41c9-4d3e-8681-15e30294cf4d",
   "metadata": {
    "tags": [
     "remove_cell"
    ]
   },
   "source": [
    "<br>\n",
    "\n",
    "## Exemplo"
   ]
  },
  {
   "cell_type": "code",
   "execution_count": null,
   "id": "f7db3412-e07f-4835-975a-1970d03da718",
   "metadata": {
    "tags": [
     "remove_cell"
    ]
   },
   "outputs": [],
   "source": [
    "#sidrapy.get_table(table_code=\"1419\", territorial_level=\"1\", ibge_territorial_code=\"all\", period=\"last 12\")"
   ]
  },
  {
   "cell_type": "markdown",
   "id": "8cf42157-2a4e-4338-9ccc-74001ca65749",
   "metadata": {
    "tags": [
     "remove_cell"
    ]
   },
   "source": [
    "<br>\n",
    "\n",
    "## Estimativa População"
   ]
  },
  {
   "cell_type": "code",
   "execution_count": null,
   "id": "78e4473c-03bb-450c-bf68-0986bdcbee2f",
   "metadata": {},
   "outputs": [],
   "source": [
    "def get_estimated_population(cod_ibge):\n",
    "    # Get Table\n",
    "    df = sidrapy.get_table(\n",
    "        table_code='6579',\n",
    "        territorial_level='6',\n",
    "        ibge_territorial_code=cod_ibge,\n",
    "        period='all',\n",
    "        header='n',\n",
    "    )\n",
    "\n",
    "    # Dict\n",
    "    dict_col = {\n",
    "        'D1C': 'id_municipio',\n",
    "        'D1N': 'municipio_nome',\n",
    "        'V': 'n_habitantes',\n",
    "        'D2N': 'ano'\n",
    "    }\n",
    "\n",
    "    # Remane Columns\n",
    "    df.rename(\n",
    "        dict_col,\n",
    "        axis=1,\n",
    "        inplace=True\n",
    "    )\n",
    "\n",
    "    # Select Columns\n",
    "    df = df[[v for k,v in dict_col.items()]]\n",
    "    \n",
    "    # Adjust Columns\n",
    "    df.sort_values(by=['ano'], inplace=True)\n",
    "    df['id_municipio'] = pd.to_numeric(df['id_municipio'], errors='coerce')\n",
    "    df['n_habitantes'] = pd.to_numeric(df['n_habitantes'], errors='coerce')\n",
    "    df['ano'] = pd.to_numeric(df['ano'], errors='coerce')\n",
    "\n",
    "    # Results\n",
    "    return df"
   ]
  },
  {
   "cell_type": "code",
   "execution_count": null,
   "id": "5b4459d0-fd78-4de6-b3b3-e604cc9b2435",
   "metadata": {
    "tags": [
     "remove_cell"
    ]
   },
   "outputs": [],
   "source": [
    "cod_ibge = '3526902' # Limeira\n",
    "\n",
    "df = get_estimated_population(cod_ibge)\n",
    "print(df.dtypes)\n",
    "df.head()"
   ]
  },
  {
   "cell_type": "markdown",
   "id": "dbb42993-2287-4261-8820-e2cd023cd694",
   "metadata": {
    "tags": [
     "remove_cell"
    ]
   },
   "source": [
    "<br>\n",
    "\n",
    "# Export"
   ]
  },
  {
   "cell_type": "code",
   "execution_count": null,
   "id": "94714f50-9e80-4838-9b61-b7594430ae45",
   "metadata": {
    "tags": [
     "remove_cell"
    ]
   },
   "outputs": [],
   "source": [
    "import os\n",
    "from traitlets.config import Config\n",
    "from nbconvert import PythonExporter\n",
    "from nbconvert.preprocessors import TagRemovePreprocessor"
   ]
  },
  {
   "cell_type": "code",
   "execution_count": null,
   "id": "1506f31c-5b4b-4806-b90c-883470a0cb79",
   "metadata": {
    "tags": [
     "remove_cell"
    ]
   },
   "outputs": [],
   "source": [
    "input_filepath = os.path.join(os.getcwd(), 'sidrapy.ipynb')\n",
    "output_filepath = os.path.join(os.getcwd(), 'estimated_population.py')\n",
    "print(output_filepath)"
   ]
  },
  {
   "cell_type": "code",
   "execution_count": null,
   "id": "99c271f6-24c7-4f43-b1ac-fcb03a4c61c9",
   "metadata": {
    "tags": [
     "remove_cell"
    ]
   },
   "outputs": [],
   "source": [
    "# Import the exporter\n",
    "c = Config()\n",
    "c.TagRemovePreprocessor.enabled=True\n",
    "c.ClearOutputPreprocessor.enabled=True\n",
    "c.TemplateExporter.exclude_markdown=True\n",
    "c.TemplateExporter.exclude_code_cell=False\n",
    "c.TemplateExporter.exclude_input_prompt=True \n",
    "c.TemplateExporter.exclude_output=True\n",
    "c.TemplateExporter.exclude_raw=True\n",
    "c.TagRemovePreprocessor.remove_cell_tags = ('remove_cell',)\n",
    "c.TagRemovePreprocessor.remove_input_tags = ('remove_cell',)\n",
    "c.TagRemovePreprocessor.remove_all_outputs_tags = ('remove_output',)\n",
    "c.preprocessors = ['TagRemovePreprocessor']\n",
    "c.PythonExporter.preprocessors = ['nbconvert.preprocessors.TagRemovePreprocessor']\n",
    "\n",
    "# Configure and run out exporter\n",
    "py_exporter = PythonExporter(config=c)\n",
    "py_exporter.register_preprocessor(TagRemovePreprocessor(config=c), True)\n",
    "\n",
    "# Configure and run out exporter - returns a tuple - first element with html, second with notebook metadata\n",
    "body, metadata = PythonExporter(config=c).from_filename(input_filepath)\n",
    "\n",
    "# Write to output html file\n",
    "with open(output_filepath,  'w', encoding='utf-8') as f:\n",
    "    f.write(body)"
   ]
  },
  {
   "cell_type": "code",
   "execution_count": null,
   "id": "4554da3a-aa3a-4a6e-a5e7-737e54bae5f9",
   "metadata": {
    "tags": [
     "remove_cell"
    ]
   },
   "outputs": [],
   "source": []
  },
  {
   "cell_type": "code",
   "execution_count": null,
   "id": "c6e85f4e-26cd-4270-89d2-a4d4167316a2",
   "metadata": {},
   "outputs": [],
   "source": []
  }
 ],
 "metadata": {
  "kernelspec": {
   "display_name": "Python [conda env:pablocarreira-py39] *",
   "language": "python",
   "name": "conda-env-pablocarreira-py39-py"
  },
  "language_info": {
   "codemirror_mode": {
    "name": "ipython",
    "version": 3
   },
   "file_extension": ".py",
   "mimetype": "text/x-python",
   "name": "python",
   "nbconvert_exporter": "python",
   "pygments_lexer": "ipython3",
   "version": "3.9.10"
  }
 },
 "nbformat": 4,
 "nbformat_minor": 5
}
